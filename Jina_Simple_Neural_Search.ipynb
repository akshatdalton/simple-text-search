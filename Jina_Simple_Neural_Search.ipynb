{
  "nbformat": 4,
  "nbformat_minor": 0,
  "metadata": {
    "colab": {
      "name": "Jina - Simple Neural Search.ipynb",
      "provenance": [],
      "authorship_tag": "ABX9TyOJ3mDObecSrEfh5r59+1FW",
      "include_colab_link": true
    },
    "kernelspec": {
      "name": "python3",
      "display_name": "Python 3"
    },
    "language_info": {
      "name": "python"
    }
  },
  "cells": [
    {
      "cell_type": "markdown",
      "metadata": {
        "id": "view-in-github",
        "colab_type": "text"
      },
      "source": [
        "<a href=\"https://colab.research.google.com/github/akshatdalton/simple-text-search/blob/main/Jina_Simple_Neural_Search.ipynb\" target=\"_parent\"><img src=\"https://colab.research.google.com/assets/colab-badge.svg\" alt=\"Open In Colab\"/></a>"
      ]
    },
    {
      "cell_type": "code",
      "execution_count": null,
      "metadata": {
        "id": "PhsjnXczZmbP"
      },
      "outputs": [],
      "source": [
        "# !pip install -U jina"
      ]
    },
    {
      "cell_type": "code",
      "source": [
        "import numpy as np\n",
        "from jina import DocumentArray, Executor, requests\n",
        "\n",
        "\n",
        "class CharEmbed(Executor):  # a simple character embedding with mean-pooling\n",
        "    offset = 32  # letter `a`\n",
        "    dim = 127 - offset + 1  # last pos reserved for `UNK`\n",
        "    char_embd = np.eye(dim) * 1  # one-hot embedding for all chars\n",
        "\n",
        "    @requests\n",
        "    def foo(self, docs: DocumentArray, **kwargs):\n",
        "        for d in docs:\n",
        "            r_emb = [ord(c) - self.offset if self.offset <= ord(c) <= 127 else (self.dim - 1) for c in d.text]\n",
        "            d.embedding = self.char_embd[r_emb, :].mean(axis=0)  # average pooling"
      ],
      "metadata": {
        "id": "Ua7N8Ywgdz9-"
      },
      "execution_count": null,
      "outputs": []
    },
    {
      "cell_type": "code",
      "source": [
        "from jina import DocumentArray, Executor, requests\n",
        "\n",
        "\n",
        "class Indexer(Executor):\n",
        "    _docs = DocumentArray()  # for storing all documents in memory\n",
        "\n",
        "    @requests(on='/index')\n",
        "    def foo(self, docs: DocumentArray, **kwargs):\n",
        "        self._docs.extend(docs)  # extend stored `docs`\n",
        "\n",
        "    @requests(on='/search')\n",
        "    def bar(self, docs: DocumentArray, **kwargs):\n",
        "        docs.match(self._docs, metric='euclidean', limit=20)"
      ],
      "metadata": {
        "id": "oMXijrrxgzlv"
      },
      "execution_count": null,
      "outputs": []
    },
    {
      "cell_type": "code",
      "source": [
        "from jina import Flow\n",
        "\n",
        "f = (Flow(port_expose=12345, protocol='http', cors=True)\n",
        "        .add(uses=CharEmbed, replicas=2)\n",
        "        .add(uses=Indexer))  # build a Flow, with 2 shard CharEmbed, tho unnecessary"
      ],
      "metadata": {
        "id": "8UB8ke_55zOQ"
      },
      "execution_count": null,
      "outputs": []
    },
    {
      "cell_type": "code",
      "source": [
        "from jina import Document\n",
        "\n",
        "data = [\"Hello World\", \"Hello Universe\", \"World Hello!\", \"Universe Hello!\"]\n",
        "\n",
        "from jina.types.request import Response\n",
        "\n",
        "\n",
        "def print_matches(resp: Response):  # the callback function invoked when task is done\n",
        "    for idx, d in enumerate(resp.docs[0].matches[:3]):  # print top-3 matches\n",
        "        print(f'[{idx}]{d.scores[\"euclidean\"].value:2f}: \"{d.text}\"')\n",
        "\n",
        "with f:\n",
        "    f.post('/index', (Document(text=t.strip()) for t in data if t.strip()))  # index all lines of _this_ file\n",
        "    # f.block()  # block for listening request\n",
        "    f.post('/search', Document(text=input(\"Enter your query\\n\")), on_done=print_matches)"
      ],
      "metadata": {
        "colab": {
          "base_uri": "https://localhost:8080/"
        },
        "id": "zQODp8-453f2",
        "outputId": "4a1941ff-9ba4-44c8-f925-ffe22aa67bd9"
      },
      "execution_count": null,
      "outputs": [
        {
          "output_type": "stream",
          "name": "stdout",
          "text": [
            "\u001b[32m⠸\u001b[0m 2/3 waiting \u001b[33mgateway\u001b[0m to be ready...\u001b[33m        gateway@954[W]:CORS is enabled. This service is now accessible from any website!\u001b[0m\n",
            "           Flow@61[I]:\u001b[32m🎉 Flow is ready to use!\u001b[0m\n",
            "\t🔗 Protocol: \t\t\u001b[1mHTTP\u001b[0m\n",
            "\t🏠 Local access:\t\u001b[4m\u001b[36m0.0.0.0:12345\u001b[0m\n",
            "\t🔒 Private network:\t\u001b[4m\u001b[36m172.28.0.2:12345\u001b[0m\n",
            "\t🌐 Public address:\t\u001b[4m\u001b[36m35.245.158.192:12345\u001b[0m\n",
            "\t💬 Swagger UI:\t\t\u001b[4m\u001b[36mhttp://localhost:12345/docs\u001b[0m\n",
            "\t📚 Redoc:\t\t\u001b[4m\u001b[36mhttp://localhost:12345/redoc\u001b[0m\u001b[0m\n"
          ]
        },
        {
          "output_type": "stream",
          "name": "stderr",
          "text": [
            "\u001b[1;33mUserWarning: ignored unknown argument: ['12345'].\u001b[0m \u001b[1;30m(raised from /usr/local/lib/python3.7/dist-packages/jina/helper.py:691)\u001b[0m\n"
          ]
        },
        {
          "output_type": "stream",
          "name": "stdout",
          "text": [
            "Enter your query\n",
            "Universe\n",
            "[0]0.232829: \"Hello Universe\"\n",
            "[1]0.241810: \"Universe Hello!\"\n",
            "[2]0.482327: \"World Hello!\"\n"
          ]
        }
      ]
    },
    {
      "cell_type": "code",
      "source": [
        ""
      ],
      "metadata": {
        "id": "7hTNmr0NAW2T"
      },
      "execution_count": null,
      "outputs": []
    }
  ]
}